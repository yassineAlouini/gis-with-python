{
 "cells": [
  {
   "cell_type": "markdown",
   "metadata": {
    "deletable": true,
    "editable": true
   },
   "source": [
    "Let's do some GIS with Python!"
   ]
  },
  {
   "cell_type": "markdown",
   "metadata": {
    "deletable": true,
    "editable": true
   },
   "source": [
    "# The GIS stack in Python "
   ]
  },
  {
   "cell_type": "markdown",
   "metadata": {
    "collapsed": true,
    "deletable": true,
    "editable": true
   },
   "source": [
    "* fiona\n",
    "* shapely\n",
    "* pyproj\n",
    "* geopandas \n",
    "* rtree (spatial indexing)\n",
    "* geoplot (for plotting)"
   ]
  },
  {
   "cell_type": "code",
   "execution_count": 1,
   "metadata": {
    "ExecuteTime": {
     "end_time": "2017-03-23T16:29:47.650991Z",
     "start_time": "2017-03-23T17:29:46.205330+01:00"
    },
    "collapsed": false,
    "deletable": true,
    "editable": true
   },
   "outputs": [],
   "source": [
    "import geopandas as gpd\n",
    "import pandas as pd\n",
    "from shapely.geometry import Point\n",
    "import matplotlib.pylab as plt\n",
    "import geoplot as gplt\n",
    "import geoplot.crs as gcrs\n",
    "import seaborn as sns\n",
    "import fiona\n",
    "import io\n",
    "import requests\n",
    "%matplotlib inline"
   ]
  },
  {
   "cell_type": "code",
   "execution_count": 2,
   "metadata": {
    "ExecuteTime": {
     "end_time": "2017-03-23T16:29:55.361653Z",
     "start_time": "2017-03-23T17:29:55.348984+01:00"
    },
    "collapsed": false,
    "deletable": true,
    "editable": true
   },
   "outputs": [],
   "source": [
    "%load_ext watermark"
   ]
  },
  {
   "cell_type": "code",
   "execution_count": 3,
   "metadata": {
    "ExecuteTime": {
     "end_time": "2017-03-23T16:29:57.169542Z",
     "start_time": "2017-03-23T17:29:57.100675+01:00"
    },
    "collapsed": false,
    "deletable": true,
    "editable": true
   },
   "outputs": [
    {
     "name": "stdout",
     "output_type": "stream",
     "text": [
      "2017-03-23 CET\n",
      "\n",
      "CPython 3.5.2\n",
      "IPython 5.3.0\n",
      "\n",
      "geopandas 0.2.1\n",
      "shapely 1.5.17\n",
      "fiona 1.7.5\n",
      "pyproj 1.9.5.1\n",
      "geoplot n\u0007\n",
      "\n",
      "compiler   : GCC 4.2.1 Compatible Apple LLVM 8.0.0 (clang-800.0.42.1)\n",
      "system     : Darwin\n",
      "release    : 16.4.0\n",
      "machine    : x86_64\n",
      "processor  : i386\n",
      "CPU cores  : 4\n",
      "interpreter: 64bit\n",
      "host name  : MacBook-Pro-de-Qucit.local\n",
      "Git hash   : 8f5a23e87f059a1b3720f8e3a9cb719ceefe968a\n",
      "watermark 1.3.4\n"
     ]
    }
   ],
   "source": [
    "%watermark -d -z -v -p geopandas,shapely,fiona,pyproj,geoplot -g -h -m -w"
   ]
  },
  {
   "cell_type": "markdown",
   "metadata": {
    "deletable": true,
    "editable": true
   },
   "source": [
    "# Import Airport data"
   ]
  },
  {
   "cell_type": "markdown",
   "metadata": {
    "ExecuteTime": {
     "end_time": "2017-03-09T08:47:39.503131",
     "start_time": "2017-03-09T08:47:39.499634"
    },
    "collapsed": true,
    "deletable": true,
    "editable": true
   },
   "source": [
    "* Flights data source\n",
    "* http://openflights.org/data.html"
   ]
  },
  {
   "cell_type": "code",
   "execution_count": 4,
   "metadata": {
    "ExecuteTime": {
     "end_time": "2017-03-23T16:29:59.959700Z",
     "start_time": "2017-03-23T17:29:59.955480+01:00"
    },
    "collapsed": true,
    "deletable": true,
    "editable": true
   },
   "outputs": [],
   "source": [
    "column_names = ['id', 'name', 'city', 'country', 'IATA', 'ICAO', 'latitude', 'longitude', 'altitude', 'timezone', \n",
    "                'dst', 'tz_database_time_zone', 'type', 'source']"
   ]
  },
  {
   "cell_type": "code",
   "execution_count": 5,
   "metadata": {
    "ExecuteTime": {
     "end_time": "2017-03-23T16:30:03.302245Z",
     "start_time": "2017-03-23T17:30:01.548423+01:00"
    },
    "collapsed": false,
    "deletable": true,
    "editable": true
   },
   "outputs": [],
   "source": [
    "airports_url=\"https://raw.githubusercontent.com/jpatokal/openflights/master/data/airports.dat\"\n",
    "airports_df = pd.read_csv(airports_url, header=None, names=column_names)"
   ]
  },
  {
   "cell_type": "code",
   "execution_count": 7,
   "metadata": {
    "ExecuteTime": {
     "end_time": "2017-03-23T16:31:45.757042Z",
     "start_time": "2017-03-23T17:31:45.729063+01:00"
    },
    "collapsed": false
   },
   "outputs": [
    {
     "data": {
      "text/html": [
       "<div>\n",
       "<table border=\"1\" class=\"dataframe\">\n",
       "  <thead>\n",
       "    <tr style=\"text-align: right;\">\n",
       "      <th></th>\n",
       "      <th>id</th>\n",
       "      <th>latitude</th>\n",
       "      <th>longitude</th>\n",
       "      <th>altitude</th>\n",
       "    </tr>\n",
       "  </thead>\n",
       "  <tbody>\n",
       "    <tr>\n",
       "      <th>count</th>\n",
       "      <td>7184.000000</td>\n",
       "      <td>7184.000000</td>\n",
       "      <td>7184.000000</td>\n",
       "      <td>7184.000000</td>\n",
       "    </tr>\n",
       "    <tr>\n",
       "      <th>mean</th>\n",
       "      <td>4672.248886</td>\n",
       "      <td>25.950874</td>\n",
       "      <td>-2.946702</td>\n",
       "      <td>1011.833101</td>\n",
       "    </tr>\n",
       "    <tr>\n",
       "      <th>std</th>\n",
       "      <td>3324.796152</td>\n",
       "      <td>28.239954</td>\n",
       "      <td>85.993653</td>\n",
       "      <td>1608.349308</td>\n",
       "    </tr>\n",
       "    <tr>\n",
       "      <th>min</th>\n",
       "      <td>1.000000</td>\n",
       "      <td>-90.000000</td>\n",
       "      <td>-179.876999</td>\n",
       "      <td>-1266.000000</td>\n",
       "    </tr>\n",
       "    <tr>\n",
       "      <th>25%</th>\n",
       "      <td>1853.750000</td>\n",
       "      <td>7.366353</td>\n",
       "      <td>-79.467924</td>\n",
       "      <td>66.000000</td>\n",
       "    </tr>\n",
       "    <tr>\n",
       "      <th>50%</th>\n",
       "      <td>3809.500000</td>\n",
       "      <td>34.262400</td>\n",
       "      <td>5.820455</td>\n",
       "      <td>354.000000</td>\n",
       "    </tr>\n",
       "    <tr>\n",
       "      <th>75%</th>\n",
       "      <td>7187.250000</td>\n",
       "      <td>47.290104</td>\n",
       "      <td>50.838224</td>\n",
       "      <td>1197.250000</td>\n",
       "    </tr>\n",
       "    <tr>\n",
       "      <th>max</th>\n",
       "      <td>12057.000000</td>\n",
       "      <td>82.517799</td>\n",
       "      <td>179.951004</td>\n",
       "      <td>14219.000000</td>\n",
       "    </tr>\n",
       "  </tbody>\n",
       "</table>\n",
       "</div>"
      ],
      "text/plain": [
       "                 id     latitude    longitude      altitude\n",
       "count   7184.000000  7184.000000  7184.000000   7184.000000\n",
       "mean    4672.248886    25.950874    -2.946702   1011.833101\n",
       "std     3324.796152    28.239954    85.993653   1608.349308\n",
       "min        1.000000   -90.000000  -179.876999  -1266.000000\n",
       "25%     1853.750000     7.366353   -79.467924     66.000000\n",
       "50%     3809.500000    34.262400     5.820455    354.000000\n",
       "75%     7187.250000    47.290104    50.838224   1197.250000\n",
       "max    12057.000000    82.517799   179.951004  14219.000000"
      ]
     },
     "execution_count": 7,
     "metadata": {},
     "output_type": "execute_result"
    }
   ],
   "source": [
    "airports_df.describe()"
   ]
  },
  {
   "cell_type": "code",
   "execution_count": 6,
   "metadata": {
    "ExecuteTime": {
     "end_time": "2017-03-23T16:31:29.008368Z",
     "start_time": "2017-03-23T17:31:28.985173+01:00"
    },
    "collapsed": false,
    "deletable": true,
    "editable": true,
    "scrolled": false
   },
   "outputs": [
    {
     "data": {
      "text/html": [
       "<div>\n",
       "<table border=\"1\" class=\"dataframe\">\n",
       "  <thead>\n",
       "    <tr style=\"text-align: right;\">\n",
       "      <th></th>\n",
       "      <th>id</th>\n",
       "      <th>name</th>\n",
       "      <th>city</th>\n",
       "      <th>country</th>\n",
       "      <th>IATA</th>\n",
       "      <th>ICAO</th>\n",
       "      <th>latitude</th>\n",
       "      <th>longitude</th>\n",
       "      <th>altitude</th>\n",
       "      <th>timezone</th>\n",
       "      <th>dst</th>\n",
       "      <th>tz_database_time_zone</th>\n",
       "      <th>type</th>\n",
       "      <th>source</th>\n",
       "    </tr>\n",
       "  </thead>\n",
       "  <tbody>\n",
       "    <tr>\n",
       "      <th>0</th>\n",
       "      <td>1</td>\n",
       "      <td>Goroka Airport</td>\n",
       "      <td>Goroka</td>\n",
       "      <td>Papua New Guinea</td>\n",
       "      <td>GKA</td>\n",
       "      <td>AYGA</td>\n",
       "      <td>-6.081690</td>\n",
       "      <td>145.391998</td>\n",
       "      <td>5282</td>\n",
       "      <td>10</td>\n",
       "      <td>U</td>\n",
       "      <td>Pacific/Port_Moresby</td>\n",
       "      <td>airport</td>\n",
       "      <td>OurAirports</td>\n",
       "    </tr>\n",
       "    <tr>\n",
       "      <th>1</th>\n",
       "      <td>2</td>\n",
       "      <td>Madang Airport</td>\n",
       "      <td>Madang</td>\n",
       "      <td>Papua New Guinea</td>\n",
       "      <td>MAG</td>\n",
       "      <td>AYMD</td>\n",
       "      <td>-5.207080</td>\n",
       "      <td>145.789001</td>\n",
       "      <td>20</td>\n",
       "      <td>10</td>\n",
       "      <td>U</td>\n",
       "      <td>Pacific/Port_Moresby</td>\n",
       "      <td>airport</td>\n",
       "      <td>OurAirports</td>\n",
       "    </tr>\n",
       "    <tr>\n",
       "      <th>2</th>\n",
       "      <td>3</td>\n",
       "      <td>Mount Hagen Kagamuga Airport</td>\n",
       "      <td>Mount Hagen</td>\n",
       "      <td>Papua New Guinea</td>\n",
       "      <td>HGU</td>\n",
       "      <td>AYMH</td>\n",
       "      <td>-5.826790</td>\n",
       "      <td>144.296005</td>\n",
       "      <td>5388</td>\n",
       "      <td>10</td>\n",
       "      <td>U</td>\n",
       "      <td>Pacific/Port_Moresby</td>\n",
       "      <td>airport</td>\n",
       "      <td>OurAirports</td>\n",
       "    </tr>\n",
       "    <tr>\n",
       "      <th>3</th>\n",
       "      <td>4</td>\n",
       "      <td>Nadzab Airport</td>\n",
       "      <td>Nadzab</td>\n",
       "      <td>Papua New Guinea</td>\n",
       "      <td>LAE</td>\n",
       "      <td>AYNZ</td>\n",
       "      <td>-6.569803</td>\n",
       "      <td>146.725977</td>\n",
       "      <td>239</td>\n",
       "      <td>10</td>\n",
       "      <td>U</td>\n",
       "      <td>Pacific/Port_Moresby</td>\n",
       "      <td>airport</td>\n",
       "      <td>OurAirports</td>\n",
       "    </tr>\n",
       "    <tr>\n",
       "      <th>4</th>\n",
       "      <td>5</td>\n",
       "      <td>Port Moresby Jacksons International Airport</td>\n",
       "      <td>Port Moresby</td>\n",
       "      <td>Papua New Guinea</td>\n",
       "      <td>POM</td>\n",
       "      <td>AYPY</td>\n",
       "      <td>-9.443380</td>\n",
       "      <td>147.220001</td>\n",
       "      <td>146</td>\n",
       "      <td>10</td>\n",
       "      <td>U</td>\n",
       "      <td>Pacific/Port_Moresby</td>\n",
       "      <td>airport</td>\n",
       "      <td>OurAirports</td>\n",
       "    </tr>\n",
       "  </tbody>\n",
       "</table>\n",
       "</div>"
      ],
      "text/plain": [
       "   id                                         name          city  \\\n",
       "0   1                               Goroka Airport        Goroka   \n",
       "1   2                               Madang Airport        Madang   \n",
       "2   3                 Mount Hagen Kagamuga Airport   Mount Hagen   \n",
       "3   4                               Nadzab Airport        Nadzab   \n",
       "4   5  Port Moresby Jacksons International Airport  Port Moresby   \n",
       "\n",
       "            country IATA  ICAO  latitude   longitude  altitude timezone dst  \\\n",
       "0  Papua New Guinea  GKA  AYGA -6.081690  145.391998      5282       10   U   \n",
       "1  Papua New Guinea  MAG  AYMD -5.207080  145.789001        20       10   U   \n",
       "2  Papua New Guinea  HGU  AYMH -5.826790  144.296005      5388       10   U   \n",
       "3  Papua New Guinea  LAE  AYNZ -6.569803  146.725977       239       10   U   \n",
       "4  Papua New Guinea  POM  AYPY -9.443380  147.220001       146       10   U   \n",
       "\n",
       "  tz_database_time_zone     type       source  \n",
       "0  Pacific/Port_Moresby  airport  OurAirports  \n",
       "1  Pacific/Port_Moresby  airport  OurAirports  \n",
       "2  Pacific/Port_Moresby  airport  OurAirports  \n",
       "3  Pacific/Port_Moresby  airport  OurAirports  \n",
       "4  Pacific/Port_Moresby  airport  OurAirports  "
      ]
     },
     "execution_count": 6,
     "metadata": {},
     "output_type": "execute_result"
    }
   ],
   "source": [
    "airports_df.head()"
   ]
  },
  {
   "cell_type": "markdown",
   "metadata": {
    "deletable": true,
    "editable": true
   },
   "source": [
    "# Transform Pandas DataFrame into a GeoPandas DataFrame"
   ]
  },
  {
   "cell_type": "code",
   "execution_count": 8,
   "metadata": {
    "ExecuteTime": {
     "end_time": "2017-03-23T16:32:11.824900Z",
     "start_time": "2017-03-23T17:32:11.818120+01:00"
    },
    "collapsed": true,
    "deletable": true,
    "editable": true
   },
   "outputs": [],
   "source": [
    "def longitude_latitude_to_geom(row):\n",
    "    p = Point(row['longitude'], row['latitude'], row['altitude'])\n",
    "    return p\n",
    "def add_geometry_column(input_df):\n",
    "    df = input_df.copy()\n",
    "    return df.assign(geometry=lambda df: df.apply(longitude_latitude_to_geom, axis=1))\n",
    "def create_gdf_from_df(input_df):\n",
    "    df = input_df.copy()\n",
    "    return (df.pipe(add_geometry_column)\n",
    "              .drop(['longitude', 'latitude', 'altitude'], axis=1)\n",
    "              .pipe(gpd.GeoDataFrame))"
   ]
  },
  {
   "cell_type": "code",
   "execution_count": 9,
   "metadata": {
    "ExecuteTime": {
     "end_time": "2017-03-23T16:32:13.721656Z",
     "start_time": "2017-03-23T17:32:13.313456+01:00"
    },
    "collapsed": true,
    "deletable": true,
    "editable": true
   },
   "outputs": [],
   "source": [
    "airports_gdf = airports_df.pipe(create_gdf_from_df)"
   ]
  },
  {
   "cell_type": "code",
   "execution_count": 10,
   "metadata": {
    "ExecuteTime": {
     "end_time": "2017-03-23T16:32:16.676967Z",
     "start_time": "2017-03-23T17:32:16.654273+01:00"
    },
    "collapsed": false,
    "deletable": true,
    "editable": true
   },
   "outputs": [
    {
     "data": {
      "text/html": [
       "<div>\n",
       "<table border=\"1\" class=\"dataframe\">\n",
       "  <thead>\n",
       "    <tr style=\"text-align: right;\">\n",
       "      <th></th>\n",
       "      <th>id</th>\n",
       "      <th>name</th>\n",
       "      <th>city</th>\n",
       "      <th>country</th>\n",
       "      <th>IATA</th>\n",
       "      <th>ICAO</th>\n",
       "      <th>timezone</th>\n",
       "      <th>dst</th>\n",
       "      <th>tz_database_time_zone</th>\n",
       "      <th>type</th>\n",
       "      <th>source</th>\n",
       "      <th>geometry</th>\n",
       "    </tr>\n",
       "  </thead>\n",
       "  <tbody>\n",
       "    <tr>\n",
       "      <th>0</th>\n",
       "      <td>1</td>\n",
       "      <td>Goroka Airport</td>\n",
       "      <td>Goroka</td>\n",
       "      <td>Papua New Guinea</td>\n",
       "      <td>GKA</td>\n",
       "      <td>AYGA</td>\n",
       "      <td>10</td>\n",
       "      <td>U</td>\n",
       "      <td>Pacific/Port_Moresby</td>\n",
       "      <td>airport</td>\n",
       "      <td>OurAirports</td>\n",
       "      <td>POINT Z (145.391998291 -6.081689834590001 5282)</td>\n",
       "    </tr>\n",
       "    <tr>\n",
       "      <th>1</th>\n",
       "      <td>2</td>\n",
       "      <td>Madang Airport</td>\n",
       "      <td>Madang</td>\n",
       "      <td>Papua New Guinea</td>\n",
       "      <td>MAG</td>\n",
       "      <td>AYMD</td>\n",
       "      <td>10</td>\n",
       "      <td>U</td>\n",
       "      <td>Pacific/Port_Moresby</td>\n",
       "      <td>airport</td>\n",
       "      <td>OurAirports</td>\n",
       "      <td>POINT Z (145.789001465 -5.20707988739 20)</td>\n",
       "    </tr>\n",
       "    <tr>\n",
       "      <th>2</th>\n",
       "      <td>3</td>\n",
       "      <td>Mount Hagen Kagamuga Airport</td>\n",
       "      <td>Mount Hagen</td>\n",
       "      <td>Papua New Guinea</td>\n",
       "      <td>HGU</td>\n",
       "      <td>AYMH</td>\n",
       "      <td>10</td>\n",
       "      <td>U</td>\n",
       "      <td>Pacific/Port_Moresby</td>\n",
       "      <td>airport</td>\n",
       "      <td>OurAirports</td>\n",
       "      <td>POINT Z (144.2960052490234 -5.826789855957031 ...</td>\n",
       "    </tr>\n",
       "    <tr>\n",
       "      <th>3</th>\n",
       "      <td>4</td>\n",
       "      <td>Nadzab Airport</td>\n",
       "      <td>Nadzab</td>\n",
       "      <td>Papua New Guinea</td>\n",
       "      <td>LAE</td>\n",
       "      <td>AYNZ</td>\n",
       "      <td>10</td>\n",
       "      <td>U</td>\n",
       "      <td>Pacific/Port_Moresby</td>\n",
       "      <td>airport</td>\n",
       "      <td>OurAirports</td>\n",
       "      <td>POINT Z (146.725977 -6.569803 239)</td>\n",
       "    </tr>\n",
       "    <tr>\n",
       "      <th>4</th>\n",
       "      <td>5</td>\n",
       "      <td>Port Moresby Jacksons International Airport</td>\n",
       "      <td>Port Moresby</td>\n",
       "      <td>Papua New Guinea</td>\n",
       "      <td>POM</td>\n",
       "      <td>AYPY</td>\n",
       "      <td>10</td>\n",
       "      <td>U</td>\n",
       "      <td>Pacific/Port_Moresby</td>\n",
       "      <td>airport</td>\n",
       "      <td>OurAirports</td>\n",
       "      <td>POINT Z (147.2200012207031 -9.443380355834961 ...</td>\n",
       "    </tr>\n",
       "  </tbody>\n",
       "</table>\n",
       "</div>"
      ],
      "text/plain": [
       "   id                                         name          city  \\\n",
       "0   1                               Goroka Airport        Goroka   \n",
       "1   2                               Madang Airport        Madang   \n",
       "2   3                 Mount Hagen Kagamuga Airport   Mount Hagen   \n",
       "3   4                               Nadzab Airport        Nadzab   \n",
       "4   5  Port Moresby Jacksons International Airport  Port Moresby   \n",
       "\n",
       "            country IATA  ICAO timezone dst tz_database_time_zone     type  \\\n",
       "0  Papua New Guinea  GKA  AYGA       10   U  Pacific/Port_Moresby  airport   \n",
       "1  Papua New Guinea  MAG  AYMD       10   U  Pacific/Port_Moresby  airport   \n",
       "2  Papua New Guinea  HGU  AYMH       10   U  Pacific/Port_Moresby  airport   \n",
       "3  Papua New Guinea  LAE  AYNZ       10   U  Pacific/Port_Moresby  airport   \n",
       "4  Papua New Guinea  POM  AYPY       10   U  Pacific/Port_Moresby  airport   \n",
       "\n",
       "        source                                           geometry  \n",
       "0  OurAirports    POINT Z (145.391998291 -6.081689834590001 5282)  \n",
       "1  OurAirports          POINT Z (145.789001465 -5.20707988739 20)  \n",
       "2  OurAirports  POINT Z (144.2960052490234 -5.826789855957031 ...  \n",
       "3  OurAirports                 POINT Z (146.725977 -6.569803 239)  \n",
       "4  OurAirports  POINT Z (147.2200012207031 -9.443380355834961 ...  "
      ]
     },
     "execution_count": 10,
     "metadata": {},
     "output_type": "execute_result"
    }
   ],
   "source": [
    "airports_gdf.head()"
   ]
  },
  {
   "cell_type": "markdown",
   "metadata": {
    "deletable": true,
    "editable": true
   },
   "source": [
    "# Find airports in France"
   ]
  },
  {
   "cell_type": "markdown",
   "metadata": {
    "deletable": true,
    "editable": true
   },
   "source": [
    "## Read France shapes"
   ]
  },
  {
   "cell_type": "markdown",
   "metadata": {
    "deletable": true,
    "editable": true
   },
   "source": [
    "The data is extracted from here: https://github.com/gregoiredavid/france-geojson"
   ]
  },
  {
   "cell_type": "code",
   "execution_count": 11,
   "metadata": {
    "ExecuteTime": {
     "end_time": "2017-03-23T16:32:40.318287Z",
     "start_time": "2017-03-23T17:32:40.314845+01:00"
    },
    "collapsed": true,
    "deletable": true,
    "editable": true
   },
   "outputs": [],
   "source": [
    "FRANCE_DEPARTMENT_URL = 'https://raw.githubusercontent.com/gregoiredavid/france-geojson/master/departements.geojson'"
   ]
  },
  {
   "cell_type": "code",
   "execution_count": 12,
   "metadata": {
    "ExecuteTime": {
     "end_time": "2017-03-23T16:32:43.467557Z",
     "start_time": "2017-03-23T17:32:42.739463+01:00"
    },
    "collapsed": false,
    "deletable": true,
    "editable": true
   },
   "outputs": [],
   "source": [
    "request = requests.get(FRANCE_DEPARTMENT_URL)\n",
    "b = bytes(request.content)\n",
    "with fiona.BytesCollection(b) as f:\n",
    "    crs = f.crs\n",
    "    france_gdf = gpd.GeoDataFrame.from_features(f, crs=crs)"
   ]
  },
  {
   "cell_type": "code",
   "execution_count": 13,
   "metadata": {
    "ExecuteTime": {
     "end_time": "2017-03-23T16:32:48.751304Z",
     "start_time": "2017-03-23T17:32:48.732532+01:00"
    },
    "collapsed": false,
    "deletable": true,
    "editable": true
   },
   "outputs": [
    {
     "data": {
      "text/html": [
       "<div>\n",
       "<table border=\"1\" class=\"dataframe\">\n",
       "  <thead>\n",
       "    <tr style=\"text-align: right;\">\n",
       "      <th></th>\n",
       "      <th>code</th>\n",
       "      <th>geometry</th>\n",
       "      <th>nom</th>\n",
       "    </tr>\n",
       "  </thead>\n",
       "  <tbody>\n",
       "    <tr>\n",
       "      <th>0</th>\n",
       "      <td>02</td>\n",
       "      <td>POLYGON ((3.172704445659 50.011996744997, 3.18...</td>\n",
       "      <td>Aisne</td>\n",
       "    </tr>\n",
       "    <tr>\n",
       "      <th>1</th>\n",
       "      <td>10</td>\n",
       "      <td>POLYGON ((3.4147888224632 48.390268550005, 3.4...</td>\n",
       "      <td>Aube</td>\n",
       "    </tr>\n",
       "    <tr>\n",
       "      <th>2</th>\n",
       "      <td>14</td>\n",
       "      <td>POLYGON ((-1.1196198636379 49.355568981262, -1...</td>\n",
       "      <td>Calvados</td>\n",
       "    </tr>\n",
       "    <tr>\n",
       "      <th>3</th>\n",
       "      <td>15</td>\n",
       "      <td>POLYGON ((2.5084125130653 45.478501516921, 2.5...</td>\n",
       "      <td>Cantal</td>\n",
       "    </tr>\n",
       "    <tr>\n",
       "      <th>4</th>\n",
       "      <td>28</td>\n",
       "      <td>POLYGON ((0.8148247207739 48.670163564137, 0.8...</td>\n",
       "      <td>Eure-et-Loir</td>\n",
       "    </tr>\n",
       "  </tbody>\n",
       "</table>\n",
       "</div>"
      ],
      "text/plain": [
       "  code                                           geometry           nom\n",
       "0   02  POLYGON ((3.172704445659 50.011996744997, 3.18...         Aisne\n",
       "1   10  POLYGON ((3.4147888224632 48.390268550005, 3.4...          Aube\n",
       "2   14  POLYGON ((-1.1196198636379 49.355568981262, -1...      Calvados\n",
       "3   15  POLYGON ((2.5084125130653 45.478501516921, 2.5...        Cantal\n",
       "4   28  POLYGON ((0.8148247207739 48.670163564137, 0.8...  Eure-et-Loir"
      ]
     },
     "execution_count": 13,
     "metadata": {},
     "output_type": "execute_result"
    }
   ],
   "source": [
    "france_gdf.head()"
   ]
  },
  {
   "cell_type": "markdown",
   "metadata": {
    "ExecuteTime": {
     "end_time": "2017-03-23T16:32:59.607157Z",
     "start_time": "2017-03-23T17:32:59.604194+01:00"
    }
   },
   "source": [
    "## Plot France shapes"
   ]
  },
  {
   "cell_type": "code",
   "execution_count": 35,
   "metadata": {
    "ExecuteTime": {
     "end_time": "2017-03-23T12:40:15.189874Z",
     "start_time": "2017-03-23T13:40:14.222483+01:00"
    },
    "collapsed": false,
    "deletable": true,
    "editable": true
   },
   "outputs": [
    {
     "data": {
      "text/plain": [
       "<matplotlib.axes._subplots.AxesSubplot at 0x10c250c88>"
      ]
     },
     "execution_count": 35,
     "metadata": {},
     "output_type": "execute_result"
    },
    {
     "data": {
      "image/png": "[encoded data removed]",
      "text/plain": [
       "<matplotlib.figure.Figure at 0x10ba7cb70>"
      ]
     },
     "metadata": {},
     "output_type": "display_data"
    }
   ],
   "source": [
    "france_gdf.plot()"
   ]
  },
  {
   "cell_type": "markdown",
   "metadata": {},
   "source": [
    "=> Deformed map"
   ]
  },
  {
   "cell_type": "code",
   "execution_count": 18,
   "metadata": {
    "ExecuteTime": {
     "end_time": "2017-03-23T16:34:15.552028Z",
     "start_time": "2017-03-23T17:34:15.522746+01:00"
    },
    "collapsed": false,
    "deletable": true,
    "editable": true
   },
   "outputs": [
    {
     "ename": "RuntimeError",
     "evalue": "b\"no options found in 'init' file\"",
     "output_type": "error",
     "traceback": [
      "\u001b[0;31m---------------------------------------------------------------------------\u001b[0m",
      "\u001b[0;31mRuntimeError\u001b[0m                              Traceback (most recent call last)",
      "\u001b[0;32m<ipython-input-18-212949cbbb23>\u001b[0m in \u001b[0;36m<module>\u001b[0;34m()\u001b[0m\n\u001b[0;32m----> 1\u001b[0;31m \u001b[0mfrance_gdf\u001b[0m\u001b[0;34m.\u001b[0m\u001b[0mto_crs\u001b[0m\u001b[0;34m(\u001b[0m\u001b[0;34m{\u001b[0m\u001b[0;34m'init'\u001b[0m\u001b[0;34m:\u001b[0m \u001b[0;34m'epsg:cea'\u001b[0m\u001b[0;34m}\u001b[0m\u001b[0;34m)\u001b[0m\u001b[0;34m.\u001b[0m\u001b[0mplot\u001b[0m\u001b[0;34m(\u001b[0m\u001b[0;34m)\u001b[0m\u001b[0;34m\u001b[0m\u001b[0m\n\u001b[0m",
      "\u001b[0;32m/Users/yassinealouini/Envs/GIS_TALK/lib/python3.5/site-packages/geopandas/geodataframe.py\u001b[0m in \u001b[0;36mto_crs\u001b[0;34m(self, crs, epsg, inplace)\u001b[0m\n\u001b[1;32m    362\u001b[0m         \u001b[0;32melse\u001b[0m\u001b[0;34m:\u001b[0m\u001b[0;34m\u001b[0m\u001b[0m\n\u001b[1;32m    363\u001b[0m             \u001b[0mdf\u001b[0m \u001b[0;34m=\u001b[0m \u001b[0mself\u001b[0m\u001b[0;34m.\u001b[0m\u001b[0mcopy\u001b[0m\u001b[0;34m(\u001b[0m\u001b[0;34m)\u001b[0m\u001b[0;34m\u001b[0m\u001b[0m\n\u001b[0;32m--> 364\u001b[0;31m         \u001b[0mgeom\u001b[0m \u001b[0;34m=\u001b[0m \u001b[0mdf\u001b[0m\u001b[0;34m.\u001b[0m\u001b[0mgeometry\u001b[0m\u001b[0;34m.\u001b[0m\u001b[0mto_crs\u001b[0m\u001b[0;34m(\u001b[0m\u001b[0mcrs\u001b[0m\u001b[0;34m=\u001b[0m\u001b[0mcrs\u001b[0m\u001b[0;34m,\u001b[0m \u001b[0mepsg\u001b[0m\u001b[0;34m=\u001b[0m\u001b[0mepsg\u001b[0m\u001b[0;34m)\u001b[0m\u001b[0;34m\u001b[0m\u001b[0m\n\u001b[0m\u001b[1;32m    365\u001b[0m         \u001b[0mdf\u001b[0m\u001b[0;34m.\u001b[0m\u001b[0mgeometry\u001b[0m \u001b[0;34m=\u001b[0m \u001b[0mgeom\u001b[0m\u001b[0;34m\u001b[0m\u001b[0m\n\u001b[1;32m    366\u001b[0m         \u001b[0mdf\u001b[0m\u001b[0;34m.\u001b[0m\u001b[0mcrs\u001b[0m \u001b[0;34m=\u001b[0m \u001b[0mgeom\u001b[0m\u001b[0;34m.\u001b[0m\u001b[0mcrs\u001b[0m\u001b[0;34m\u001b[0m\u001b[0m\n",
      "\u001b[0;32m/Users/yassinealouini/Envs/GIS_TALK/lib/python3.5/site-packages/geopandas/geoseries.py\u001b[0m in \u001b[0;36mto_crs\u001b[0;34m(self, crs, epsg)\u001b[0m\n\u001b[1;32m    274\u001b[0m                 \u001b[0;32mraise\u001b[0m \u001b[0mTypeError\u001b[0m\u001b[0;34m(\u001b[0m\u001b[0;34m'Must set either crs or epsg for output.'\u001b[0m\u001b[0;34m)\u001b[0m\u001b[0;34m\u001b[0m\u001b[0m\n\u001b[1;32m    275\u001b[0m         \u001b[0mproj_in\u001b[0m \u001b[0;34m=\u001b[0m \u001b[0mpyproj\u001b[0m\u001b[0;34m.\u001b[0m\u001b[0mProj\u001b[0m\u001b[0;34m(\u001b[0m\u001b[0mself\u001b[0m\u001b[0;34m.\u001b[0m\u001b[0mcrs\u001b[0m\u001b[0;34m,\u001b[0m \u001b[0mpreserve_units\u001b[0m\u001b[0;34m=\u001b[0m\u001b[0;32mTrue\u001b[0m\u001b[0;34m)\u001b[0m\u001b[0;34m\u001b[0m\u001b[0m\n\u001b[0;32m--> 276\u001b[0;31m         \u001b[0mproj_out\u001b[0m \u001b[0;34m=\u001b[0m \u001b[0mpyproj\u001b[0m\u001b[0;34m.\u001b[0m\u001b[0mProj\u001b[0m\u001b[0;34m(\u001b[0m\u001b[0mcrs\u001b[0m\u001b[0;34m,\u001b[0m \u001b[0mpreserve_units\u001b[0m\u001b[0;34m=\u001b[0m\u001b[0;32mTrue\u001b[0m\u001b[0;34m)\u001b[0m\u001b[0;34m\u001b[0m\u001b[0m\n\u001b[0m\u001b[1;32m    277\u001b[0m         \u001b[0mproject\u001b[0m \u001b[0;34m=\u001b[0m \u001b[0mpartial\u001b[0m\u001b[0;34m(\u001b[0m\u001b[0mpyproj\u001b[0m\u001b[0;34m.\u001b[0m\u001b[0mtransform\u001b[0m\u001b[0;34m,\u001b[0m \u001b[0mproj_in\u001b[0m\u001b[0;34m,\u001b[0m \u001b[0mproj_out\u001b[0m\u001b[0;34m)\u001b[0m\u001b[0;34m\u001b[0m\u001b[0m\n\u001b[1;32m    278\u001b[0m         \u001b[0mresult\u001b[0m \u001b[0;34m=\u001b[0m \u001b[0mself\u001b[0m\u001b[0;34m.\u001b[0m\u001b[0mapply\u001b[0m\u001b[0;34m(\u001b[0m\u001b[0;32mlambda\u001b[0m \u001b[0mgeom\u001b[0m\u001b[0;34m:\u001b[0m \u001b[0mtransform\u001b[0m\u001b[0;34m(\u001b[0m\u001b[0mproject\u001b[0m\u001b[0;34m,\u001b[0m \u001b[0mgeom\u001b[0m\u001b[0;34m)\u001b[0m\u001b[0;34m)\u001b[0m\u001b[0;34m\u001b[0m\u001b[0m\n",
      "\u001b[0;32m/Users/yassinealouini/Envs/GIS_TALK/lib/python3.5/site-packages/pyproj/__init__.py\u001b[0m in \u001b[0;36m__new__\u001b[0;34m(self, projparams, preserve_units, **kwargs)\u001b[0m\n\u001b[1;32m    356\u001b[0m         \u001b[0;31m# on case-insensitive filesystems).\u001b[0m\u001b[0;34m\u001b[0m\u001b[0;34m\u001b[0m\u001b[0m\n\u001b[1;32m    357\u001b[0m         \u001b[0mprojstring\u001b[0m \u001b[0;34m=\u001b[0m \u001b[0mprojstring\u001b[0m\u001b[0;34m.\u001b[0m\u001b[0mreplace\u001b[0m\u001b[0;34m(\u001b[0m\u001b[0;34m'EPSG'\u001b[0m\u001b[0;34m,\u001b[0m\u001b[0;34m'epsg'\u001b[0m\u001b[0;34m)\u001b[0m\u001b[0;34m\u001b[0m\u001b[0m\n\u001b[0;32m--> 358\u001b[0;31m         \u001b[0;32mreturn\u001b[0m \u001b[0m_proj\u001b[0m\u001b[0;34m.\u001b[0m\u001b[0mProj\u001b[0m\u001b[0;34m.\u001b[0m\u001b[0m__new__\u001b[0m\u001b[0;34m(\u001b[0m\u001b[0mself\u001b[0m\u001b[0;34m,\u001b[0m \u001b[0mprojstring\u001b[0m\u001b[0;34m)\u001b[0m\u001b[0;34m\u001b[0m\u001b[0m\n\u001b[0m\u001b[1;32m    359\u001b[0m \u001b[0;34m\u001b[0m\u001b[0m\n\u001b[1;32m    360\u001b[0m     \u001b[0;32mdef\u001b[0m \u001b[0m__call__\u001b[0m\u001b[0;34m(\u001b[0m\u001b[0mself\u001b[0m\u001b[0;34m,\u001b[0m \u001b[0;34m*\u001b[0m\u001b[0margs\u001b[0m\u001b[0;34m,\u001b[0m \u001b[0;34m**\u001b[0m\u001b[0mkw\u001b[0m\u001b[0;34m)\u001b[0m\u001b[0;34m:\u001b[0m\u001b[0;34m\u001b[0m\u001b[0m\n",
      "\u001b[0;32m_proj.pyx\u001b[0m in \u001b[0;36m_proj.Proj.__cinit__ (_proj.c:1170)\u001b[0;34m()\u001b[0m\n",
      "\u001b[0;31mRuntimeError\u001b[0m: b\"no options found in 'init' file\""
     ]
    }
   ],
   "source": [
    "france_gdf.to_crs({'init': 'epsg:cea'}).plot()"
   ]
  },
  {
   "cell_type": "code",
   "execution_count": 22,
   "metadata": {
    "ExecuteTime": {
     "end_time": "2017-03-23T11:14:07.034121Z",
     "start_time": "2017-03-23T12:14:06.865352+01:00"
    },
    "collapsed": false,
    "deletable": true,
    "editable": true
   },
   "outputs": [
    {
     "data": {
      "text/html": [
       "<div>\n",
       "<table border=\"1\" class=\"dataframe\">\n",
       "  <thead>\n",
       "    <tr style=\"text-align: right;\">\n",
       "      <th></th>\n",
       "      <th>code</th>\n",
       "      <th>geometry</th>\n",
       "      <th>nom</th>\n",
       "    </tr>\n",
       "  </thead>\n",
       "  <tbody>\n",
       "    <tr>\n",
       "      <th>0</th>\n",
       "      <td>02</td>\n",
       "      <td>POLYGON ((3.172704445659 50.011996744997, 3.18...</td>\n",
       "      <td>Aisne</td>\n",
       "    </tr>\n",
       "    <tr>\n",
       "      <th>1</th>\n",
       "      <td>10</td>\n",
       "      <td>POLYGON ((3.4147888224632 48.390268550005, 3.4...</td>\n",
       "      <td>Aube</td>\n",
       "    </tr>\n",
       "    <tr>\n",
       "      <th>2</th>\n",
       "      <td>14</td>\n",
       "      <td>POLYGON ((-1.1196198636379 49.355568981262, -1...</td>\n",
       "      <td>Calvados</td>\n",
       "    </tr>\n",
       "    <tr>\n",
       "      <th>3</th>\n",
       "      <td>15</td>\n",
       "      <td>POLYGON ((2.5084125130653 45.478501516921, 2.5...</td>\n",
       "      <td>Cantal</td>\n",
       "    </tr>\n",
       "    <tr>\n",
       "      <th>4</th>\n",
       "      <td>28</td>\n",
       "      <td>POLYGON ((0.8148247207739 48.670163564137, 0.8...</td>\n",
       "      <td>Eure-et-Loir</td>\n",
       "    </tr>\n",
       "    <tr>\n",
       "      <th>5</th>\n",
       "      <td>35</td>\n",
       "      <td>(POLYGON ((-2.0068973832739 48.566110094782, -...</td>\n",
       "      <td>Ille-et-Vilaine</td>\n",
       "    </tr>\n",
       "    <tr>\n",
       "      <th>6</th>\n",
       "      <td>39</td>\n",
       "      <td>POLYGON ((5.5185372800929 47.304183948833, 5.5...</td>\n",
       "      <td>Jura</td>\n",
       "    </tr>\n",
       "    <tr>\n",
       "      <th>7</th>\n",
       "      <td>40</td>\n",
       "      <td>POLYGON ((-1.253891222702 44.4676023661, -1.19...</td>\n",
       "      <td>Landes</td>\n",
       "    </tr>\n",
       "    <tr>\n",
       "      <th>8</th>\n",
       "      <td>42</td>\n",
       "      <td>POLYGON ((3.899538631706 46.275908099459, 3.90...</td>\n",
       "      <td>Loire</td>\n",
       "    </tr>\n",
       "    <tr>\n",
       "      <th>9</th>\n",
       "      <td>45</td>\n",
       "      <td>POLYGON ((1.9940901445311 48.286584124472, 2.0...</td>\n",
       "      <td>Loiret</td>\n",
       "    </tr>\n",
       "    <tr>\n",
       "      <th>10</th>\n",
       "      <td>47</td>\n",
       "      <td>POLYGON ((0.2973266430349 44.762287404122, 0.3...</td>\n",
       "      <td>Lot-et-Garonne</td>\n",
       "    </tr>\n",
       "    <tr>\n",
       "      <th>11</th>\n",
       "      <td>55</td>\n",
       "      <td>POLYGON ((4.9509906730069 49.236867621535, 4.9...</td>\n",
       "      <td>Meuse</td>\n",
       "    </tr>\n",
       "    <tr>\n",
       "      <th>12</th>\n",
       "      <td>61</td>\n",
       "      <td>POLYGON ((-0.84094105476412 48.752223582274, -...</td>\n",
       "      <td>Orne</td>\n",
       "    </tr>\n",
       "    <tr>\n",
       "      <th>13</th>\n",
       "      <td>62</td>\n",
       "      <td>POLYGON ((2.0677049871716 51.006501514321, 2.0...</td>\n",
       "      <td>Pas-de-Calais</td>\n",
       "    </tr>\n",
       "    <tr>\n",
       "      <th>14</th>\n",
       "      <td>63</td>\n",
       "      <td>POLYGON ((2.5653725529015 46.143035759957, 2.5...</td>\n",
       "      <td>Puy-de-Dôme</td>\n",
       "    </tr>\n",
       "    <tr>\n",
       "      <th>15</th>\n",
       "      <td>67</td>\n",
       "      <td>POLYGON ((7.6352815933424 49.054164206261, 7.6...</td>\n",
       "      <td>Bas-Rhin</td>\n",
       "    </tr>\n",
       "    <tr>\n",
       "      <th>16</th>\n",
       "      <td>68</td>\n",
       "      <td>POLYGON ((7.1982872111206 48.310471263573, 7.2...</td>\n",
       "      <td>Haut-Rhin</td>\n",
       "    </tr>\n",
       "    <tr>\n",
       "      <th>17</th>\n",
       "      <td>76</td>\n",
       "      <td>POLYGON ((1.3796981484469 50.065011890414, 1.3...</td>\n",
       "      <td>Seine-Maritime</td>\n",
       "    </tr>\n",
       "    <tr>\n",
       "      <th>18</th>\n",
       "      <td>89</td>\n",
       "      <td>POLYGON ((2.9363157566366 48.163391744884, 2.9...</td>\n",
       "      <td>Yonne</td>\n",
       "    </tr>\n",
       "    <tr>\n",
       "      <th>19</th>\n",
       "      <td>93</td>\n",
       "      <td>POLYGON ((2.5530565519414 49.009816202999, 2.5...</td>\n",
       "      <td>Seine-Saint-Denis</td>\n",
       "    </tr>\n",
       "    <tr>\n",
       "      <th>20</th>\n",
       "      <td>04</td>\n",
       "      <td>POLYGON ((5.6760358633349 44.191428664539, 5.6...</td>\n",
       "      <td>Alpes-de-Haute-Provence</td>\n",
       "    </tr>\n",
       "    <tr>\n",
       "      <th>21</th>\n",
       "      <td>05</td>\n",
       "      <td>POLYGON ((6.2605698000566 45.12684420383, 6.27...</td>\n",
       "      <td>Hautes-Alpes</td>\n",
       "    </tr>\n",
       "    <tr>\n",
       "      <th>22</th>\n",
       "      <td>07</td>\n",
       "      <td>POLYGON ((4.4831320440493 45.236445615502, 4.4...</td>\n",
       "      <td>Ardèche</td>\n",
       "    </tr>\n",
       "    <tr>\n",
       "      <th>23</th>\n",
       "      <td>08</td>\n",
       "      <td>POLYGON ((4.2330628764399 49.957824711709, 4.2...</td>\n",
       "      <td>Ardennes</td>\n",
       "    </tr>\n",
       "    <tr>\n",
       "      <th>24</th>\n",
       "      <td>09</td>\n",
       "      <td>POLYGON ((1.6884233932357 43.273554672371, 1.7...</td>\n",
       "      <td>Ariège</td>\n",
       "    </tr>\n",
       "    <tr>\n",
       "      <th>25</th>\n",
       "      <td>17</td>\n",
       "      <td>(POLYGON ((-1.4809035280913 46.210026584191, -...</td>\n",
       "      <td>Charente-Maritime</td>\n",
       "    </tr>\n",
       "    <tr>\n",
       "      <th>26</th>\n",
       "      <td>19</td>\n",
       "      <td>POLYGON ((1.8987320820414 45.698276663383, 1.9...</td>\n",
       "      <td>Corrèze</td>\n",
       "    </tr>\n",
       "    <tr>\n",
       "      <th>27</th>\n",
       "      <td>24</td>\n",
       "      <td>POLYGON ((0.62974117909144 45.714569962764, 0....</td>\n",
       "      <td>Dordogne</td>\n",
       "    </tr>\n",
       "    <tr>\n",
       "      <th>28</th>\n",
       "      <td>27</td>\n",
       "      <td>POLYGON ((0.29722451460974 49.429859840723, 0....</td>\n",
       "      <td>Eure</td>\n",
       "    </tr>\n",
       "    <tr>\n",
       "      <th>29</th>\n",
       "      <td>37</td>\n",
       "      <td>POLYGON ((0.23000044283917 47.608397360802, 0....</td>\n",
       "      <td>Indre-et-Loire</td>\n",
       "    </tr>\n",
       "    <tr>\n",
       "      <th>...</th>\n",
       "      <td>...</td>\n",
       "      <td>...</td>\n",
       "      <td>...</td>\n",
       "    </tr>\n",
       "    <tr>\n",
       "      <th>66</th>\n",
       "      <td>86</td>\n",
       "      <td>POLYGON ((-0.1021158452812 47.06480003115, -0....</td>\n",
       "      <td>Vienne</td>\n",
       "    </tr>\n",
       "    <tr>\n",
       "      <th>67</th>\n",
       "      <td>94</td>\n",
       "      <td>POLYGON ((2.3318980606376 48.817010929642, 2.3...</td>\n",
       "      <td>Val-de-Marne</td>\n",
       "    </tr>\n",
       "    <tr>\n",
       "      <th>68</th>\n",
       "      <td>01</td>\n",
       "      <td>POLYGON ((4.7802082627383 46.176676203678, 4.7...</td>\n",
       "      <td>Ain</td>\n",
       "    </tr>\n",
       "    <tr>\n",
       "      <th>69</th>\n",
       "      <td>12</td>\n",
       "      <td>POLYGON ((2.981675726654 44.644673011362, 3.01...</td>\n",
       "      <td>Aveyron</td>\n",
       "    </tr>\n",
       "    <tr>\n",
       "      <th>70</th>\n",
       "      <td>13</td>\n",
       "      <td>POLYGON ((4.7390596940896 43.92406219253, 4.82...</td>\n",
       "      <td>Bouches-du-Rhône</td>\n",
       "    </tr>\n",
       "    <tr>\n",
       "      <th>71</th>\n",
       "      <td>16</td>\n",
       "      <td>POLYGON ((-0.10293827139676 45.969661749473, -...</td>\n",
       "      <td>Charente</td>\n",
       "    </tr>\n",
       "    <tr>\n",
       "      <th>72</th>\n",
       "      <td>18</td>\n",
       "      <td>POLYGON ((2.2392136694694 47.620975607683, 2.2...</td>\n",
       "      <td>Cher</td>\n",
       "    </tr>\n",
       "    <tr>\n",
       "      <th>73</th>\n",
       "      <td>2B</td>\n",
       "      <td>POLYGON ((9.4022711090103 41.858701678165, 9.3...</td>\n",
       "      <td>Haute-Corse</td>\n",
       "    </tr>\n",
       "    <tr>\n",
       "      <th>74</th>\n",
       "      <td>21</td>\n",
       "      <td>(POLYGON ((4.1159657137304 47.12333578884, 4.1...</td>\n",
       "      <td>Côte-d'Or</td>\n",
       "    </tr>\n",
       "    <tr>\n",
       "      <th>75</th>\n",
       "      <td>26</td>\n",
       "      <td>POLYGON ((4.8004899840029 45.298357121937, 4.8...</td>\n",
       "      <td>Drôme</td>\n",
       "    </tr>\n",
       "    <tr>\n",
       "      <th>76</th>\n",
       "      <td>31</td>\n",
       "      <td>POLYGON ((0.95398321315289 43.787369767012, 0....</td>\n",
       "      <td>Haute-Garonne</td>\n",
       "    </tr>\n",
       "    <tr>\n",
       "      <th>77</th>\n",
       "      <td>32</td>\n",
       "      <td>POLYGON ((0.076043349292038 43.983138573142, 0...</td>\n",
       "      <td>Gers</td>\n",
       "    </tr>\n",
       "    <tr>\n",
       "      <th>78</th>\n",
       "      <td>34</td>\n",
       "      <td>POLYGON ((3.3583619084885 43.913829285364, 3.3...</td>\n",
       "      <td>Hérault</td>\n",
       "    </tr>\n",
       "    <tr>\n",
       "      <th>79</th>\n",
       "      <td>43</td>\n",
       "      <td>POLYGON ((3.8974083668223 45.357080180177, 3.9...</td>\n",
       "      <td>Haute-Loire</td>\n",
       "    </tr>\n",
       "    <tr>\n",
       "      <th>80</th>\n",
       "      <td>44</td>\n",
       "      <td>POLYGON ((-1.1485668205651 47.029548900794, -1...</td>\n",
       "      <td>Loire-Atlantique</td>\n",
       "    </tr>\n",
       "    <tr>\n",
       "      <th>81</th>\n",
       "      <td>46</td>\n",
       "      <td>POLYGON ((1.4482602497483 45.019314041206, 1.4...</td>\n",
       "      <td>Lot</td>\n",
       "    </tr>\n",
       "    <tr>\n",
       "      <th>82</th>\n",
       "      <td>49</td>\n",
       "      <td>POLYGON ((-1.2458850128779 47.776717450948, -1...</td>\n",
       "      <td>Maine-et-Loire</td>\n",
       "    </tr>\n",
       "    <tr>\n",
       "      <th>83</th>\n",
       "      <td>50</td>\n",
       "      <td>POLYGON ((-1.1196198636379 49.355568981262, -1...</td>\n",
       "      <td>Manche</td>\n",
       "    </tr>\n",
       "    <tr>\n",
       "      <th>84</th>\n",
       "      <td>56</td>\n",
       "      <td>(POLYGON ((-2.8828361523996 47.342633634283, -...</td>\n",
       "      <td>Morbihan</td>\n",
       "    </tr>\n",
       "    <tr>\n",
       "      <th>85</th>\n",
       "      <td>59</td>\n",
       "      <td>(POLYGON ((2.9997373566796 50.129567254562, 2....</td>\n",
       "      <td>Nord</td>\n",
       "    </tr>\n",
       "    <tr>\n",
       "      <th>86</th>\n",
       "      <td>70</td>\n",
       "      <td>POLYGON ((5.884723650121 47.92604631497, 5.896...</td>\n",
       "      <td>Haute-Saône</td>\n",
       "    </tr>\n",
       "    <tr>\n",
       "      <th>87</th>\n",
       "      <td>72</td>\n",
       "      <td>POLYGON ((-0.054527208218665 48.382004461206, ...</td>\n",
       "      <td>Sarthe</td>\n",
       "    </tr>\n",
       "    <tr>\n",
       "      <th>88</th>\n",
       "      <td>80</td>\n",
       "      <td>POLYGON ((1.3796981484469 50.065011890414, 1.3...</td>\n",
       "      <td>Somme</td>\n",
       "    </tr>\n",
       "    <tr>\n",
       "      <th>89</th>\n",
       "      <td>91</td>\n",
       "      <td>POLYGON ((2.2265538842831 48.776101996393, 2.2...</td>\n",
       "      <td>Essonne</td>\n",
       "    </tr>\n",
       "    <tr>\n",
       "      <th>90</th>\n",
       "      <td>95</td>\n",
       "      <td>POLYGON ((1.7043588288241 49.232197221792, 1.7...</td>\n",
       "      <td>Val-d'Oise</td>\n",
       "    </tr>\n",
       "    <tr>\n",
       "      <th>91</th>\n",
       "      <td>41</td>\n",
       "      <td>POLYGON ((0.84121734187884 48.103059710788, 0....</td>\n",
       "      <td>Loir-et-Cher</td>\n",
       "    </tr>\n",
       "    <tr>\n",
       "      <th>92</th>\n",
       "      <td>53</td>\n",
       "      <td>POLYGON ((-0.86036021134895 48.501458584456, -...</td>\n",
       "      <td>Mayenne</td>\n",
       "    </tr>\n",
       "    <tr>\n",
       "      <th>93</th>\n",
       "      <td>54</td>\n",
       "      <td>(POLYGON ((5.4555586843759 49.480931549678, 5....</td>\n",
       "      <td>Meurthe-et-Moselle</td>\n",
       "    </tr>\n",
       "    <tr>\n",
       "      <th>94</th>\n",
       "      <td>79</td>\n",
       "      <td>POLYGON ((-0.89196408624284 46.975820414303, -...</td>\n",
       "      <td>Deux-Sèvres</td>\n",
       "    </tr>\n",
       "    <tr>\n",
       "      <th>95</th>\n",
       "      <td>90</td>\n",
       "      <td>POLYGON ((6.8235333222471 47.813051201983, 6.8...</td>\n",
       "      <td>Territoire de Belfort</td>\n",
       "    </tr>\n",
       "  </tbody>\n",
       "</table>\n",
       "<p>96 rows × 3 columns</p>\n",
       "</div>"
      ],
      "text/plain": [
       "   code                                           geometry  \\\n",
       "0    02  POLYGON ((3.172704445659 50.011996744997, 3.18...   \n",
       "1    10  POLYGON ((3.4147888224632 48.390268550005, 3.4...   \n",
       "2    14  POLYGON ((-1.1196198636379 49.355568981262, -1...   \n",
       "3    15  POLYGON ((2.5084125130653 45.478501516921, 2.5...   \n",
       "4    28  POLYGON ((0.8148247207739 48.670163564137, 0.8...   \n",
       "5    35  (POLYGON ((-2.0068973832739 48.566110094782, -...   \n",
       "6    39  POLYGON ((5.5185372800929 47.304183948833, 5.5...   \n",
       "7    40  POLYGON ((-1.253891222702 44.4676023661, -1.19...   \n",
       "8    42  POLYGON ((3.899538631706 46.275908099459, 3.90...   \n",
       "9    45  POLYGON ((1.9940901445311 48.286584124472, 2.0...   \n",
       "10   47  POLYGON ((0.2973266430349 44.762287404122, 0.3...   \n",
       "11   55  POLYGON ((4.9509906730069 49.236867621535, 4.9...   \n",
       "12   61  POLYGON ((-0.84094105476412 48.752223582274, -...   \n",
       "13   62  POLYGON ((2.0677049871716 51.006501514321, 2.0...   \n",
       "14   63  POLYGON ((2.5653725529015 46.143035759957, 2.5...   \n",
       "15   67  POLYGON ((7.6352815933424 49.054164206261, 7.6...   \n",
       "16   68  POLYGON ((7.1982872111206 48.310471263573, 7.2...   \n",
       "17   76  POLYGON ((1.3796981484469 50.065011890414, 1.3...   \n",
       "18   89  POLYGON ((2.9363157566366 48.163391744884, 2.9...   \n",
       "19   93  POLYGON ((2.5530565519414 49.009816202999, 2.5...   \n",
       "20   04  POLYGON ((5.6760358633349 44.191428664539, 5.6...   \n",
       "21   05  POLYGON ((6.2605698000566 45.12684420383, 6.27...   \n",
       "22   07  POLYGON ((4.4831320440493 45.236445615502, 4.4...   \n",
       "23   08  POLYGON ((4.2330628764399 49.957824711709, 4.2...   \n",
       "24   09  POLYGON ((1.6884233932357 43.273554672371, 1.7...   \n",
       "25   17  (POLYGON ((-1.4809035280913 46.210026584191, -...   \n",
       "26   19  POLYGON ((1.8987320820414 45.698276663383, 1.9...   \n",
       "27   24  POLYGON ((0.62974117909144 45.714569962764, 0....   \n",
       "28   27  POLYGON ((0.29722451460974 49.429859840723, 0....   \n",
       "29   37  POLYGON ((0.23000044283917 47.608397360802, 0....   \n",
       "..  ...                                                ...   \n",
       "66   86  POLYGON ((-0.1021158452812 47.06480003115, -0....   \n",
       "67   94  POLYGON ((2.3318980606376 48.817010929642, 2.3...   \n",
       "68   01  POLYGON ((4.7802082627383 46.176676203678, 4.7...   \n",
       "69   12  POLYGON ((2.981675726654 44.644673011362, 3.01...   \n",
       "70   13  POLYGON ((4.7390596940896 43.92406219253, 4.82...   \n",
       "71   16  POLYGON ((-0.10293827139676 45.969661749473, -...   \n",
       "72   18  POLYGON ((2.2392136694694 47.620975607683, 2.2...   \n",
       "73   2B  POLYGON ((9.4022711090103 41.858701678165, 9.3...   \n",
       "74   21  (POLYGON ((4.1159657137304 47.12333578884, 4.1...   \n",
       "75   26  POLYGON ((4.8004899840029 45.298357121937, 4.8...   \n",
       "76   31  POLYGON ((0.95398321315289 43.787369767012, 0....   \n",
       "77   32  POLYGON ((0.076043349292038 43.983138573142, 0...   \n",
       "78   34  POLYGON ((3.3583619084885 43.913829285364, 3.3...   \n",
       "79   43  POLYGON ((3.8974083668223 45.357080180177, 3.9...   \n",
       "80   44  POLYGON ((-1.1485668205651 47.029548900794, -1...   \n",
       "81   46  POLYGON ((1.4482602497483 45.019314041206, 1.4...   \n",
       "82   49  POLYGON ((-1.2458850128779 47.776717450948, -1...   \n",
       "83   50  POLYGON ((-1.1196198636379 49.355568981262, -1...   \n",
       "84   56  (POLYGON ((-2.8828361523996 47.342633634283, -...   \n",
       "85   59  (POLYGON ((2.9997373566796 50.129567254562, 2....   \n",
       "86   70  POLYGON ((5.884723650121 47.92604631497, 5.896...   \n",
       "87   72  POLYGON ((-0.054527208218665 48.382004461206, ...   \n",
       "88   80  POLYGON ((1.3796981484469 50.065011890414, 1.3...   \n",
       "89   91  POLYGON ((2.2265538842831 48.776101996393, 2.2...   \n",
       "90   95  POLYGON ((1.7043588288241 49.232197221792, 1.7...   \n",
       "91   41  POLYGON ((0.84121734187884 48.103059710788, 0....   \n",
       "92   53  POLYGON ((-0.86036021134895 48.501458584456, -...   \n",
       "93   54  (POLYGON ((5.4555586843759 49.480931549678, 5....   \n",
       "94   79  POLYGON ((-0.89196408624284 46.975820414303, -...   \n",
       "95   90  POLYGON ((6.8235333222471 47.813051201983, 6.8...   \n",
       "\n",
       "                        nom  \n",
       "0                     Aisne  \n",
       "1                      Aube  \n",
       "2                  Calvados  \n",
       "3                    Cantal  \n",
       "4              Eure-et-Loir  \n",
       "5           Ille-et-Vilaine  \n",
       "6                      Jura  \n",
       "7                    Landes  \n",
       "8                     Loire  \n",
       "9                    Loiret  \n",
       "10           Lot-et-Garonne  \n",
       "11                    Meuse  \n",
       "12                     Orne  \n",
       "13            Pas-de-Calais  \n",
       "14              Puy-de-Dôme  \n",
       "15                 Bas-Rhin  \n",
       "16                Haut-Rhin  \n",
       "17           Seine-Maritime  \n",
       "18                    Yonne  \n",
       "19        Seine-Saint-Denis  \n",
       "20  Alpes-de-Haute-Provence  \n",
       "21             Hautes-Alpes  \n",
       "22                  Ardèche  \n",
       "23                 Ardennes  \n",
       "24                   Ariège  \n",
       "25        Charente-Maritime  \n",
       "26                  Corrèze  \n",
       "27                 Dordogne  \n",
       "28                     Eure  \n",
       "29           Indre-et-Loire  \n",
       "..                      ...  \n",
       "66                   Vienne  \n",
       "67             Val-de-Marne  \n",
       "68                      Ain  \n",
       "69                  Aveyron  \n",
       "70         Bouches-du-Rhône  \n",
       "71                 Charente  \n",
       "72                     Cher  \n",
       "73              Haute-Corse  \n",
       "74                Côte-d'Or  \n",
       "75                    Drôme  \n",
       "76            Haute-Garonne  \n",
       "77                     Gers  \n",
       "78                  Hérault  \n",
       "79              Haute-Loire  \n",
       "80         Loire-Atlantique  \n",
       "81                      Lot  \n",
       "82           Maine-et-Loire  \n",
       "83                   Manche  \n",
       "84                 Morbihan  \n",
       "85                     Nord  \n",
       "86              Haute-Saône  \n",
       "87                   Sarthe  \n",
       "88                    Somme  \n",
       "89                  Essonne  \n",
       "90               Val-d'Oise  \n",
       "91             Loir-et-Cher  \n",
       "92                  Mayenne  \n",
       "93       Meurthe-et-Moselle  \n",
       "94              Deux-Sèvres  \n",
       "95    Territoire de Belfort  \n",
       "\n",
       "[96 rows x 3 columns]"
      ]
     },
     "execution_count": 22,
     "metadata": {},
     "output_type": "execute_result"
    }
   ],
   "source": [
    "france_gdf"
   ]
  },
  {
   "cell_type": "code",
   "execution_count": 37,
   "metadata": {
    "ExecuteTime": {
     "end_time": "2017-03-23T12:41:01.129663Z",
     "start_time": "2017-03-23T13:41:01.125766+01:00"
    },
    "collapsed": true,
    "deletable": true,
    "editable": true
   },
   "outputs": [],
   "source": [
    "proj = gcrs.AlbersEqualArea(central_longitude=-98, central_latitude=39.5)"
   ]
  },
  {
   "cell_type": "code",
   "execution_count": null,
   "metadata": {
    "collapsed": true,
    "deletable": true,
    "editable": true
   },
   "outputs": [],
   "source": []
  },
  {
   "cell_type": "code",
   "execution_count": 39,
   "metadata": {
    "ExecuteTime": {
     "end_time": "2017-03-23T12:41:42.532747Z",
     "start_time": "2017-03-23T13:41:40.871462+01:00"
    },
    "collapsed": false,
    "deletable": true,
    "editable": true
   },
   "outputs": [
    {
     "data": {
      "image/png": "[encoded data removed]",
      "text/plain": [
       "<matplotlib.figure.Figure at 0x10c9d4550>"
      ]
     },
     "metadata": {},
     "output_type": "display_data"
    }
   ],
   "source": [
    "ax = gplt.polyplot(france_gdf, projection=gcrs.Orthographic())"
   ]
  },
  {
   "cell_type": "markdown",
   "metadata": {
    "deletable": true,
    "editable": true
   },
   "source": [
    "### Select France Airports"
   ]
  },
  {
   "cell_type": "code",
   "execution_count": null,
   "metadata": {
    "collapsed": true,
    "deletable": true,
    "editable": true
   },
   "outputs": [],
   "source": []
  }
 ],
 "metadata": {
  "kernelspec": {
   "display_name": "Python 3",
   "language": "python",
   "name": "python3"
  },
  "language_info": {
   "codemirror_mode": {
    "name": "ipython",
    "version": 3
   },
   "file_extension": ".py",
   "mimetype": "text/x-python",
   "name": "python",
   "nbconvert_exporter": "python",
   "pygments_lexer": "ipython3",
   "version": "3.5.2"
  },
  "toc": {
   "toc_cell": false,
   "toc_number_sections": true,
   "toc_threshold": 6,
   "toc_window_display": true
  },
  "toc_position": {
   "height": "252px",
   "left": "1413.11px",
   "right": "20px",
   "top": "119px",
   "width": "356px"
  }
 },
 "nbformat": 4,
 "nbformat_minor": 0
}
