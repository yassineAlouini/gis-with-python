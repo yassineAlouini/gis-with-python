{
 "cells": [
  {
   "cell_type": "markdown",
   "metadata": {
    "deletable": true,
    "editable": true
   },
   "source": [
    "Let's do some GIS with Python!"
   ]
  },
  {
   "cell_type": "markdown",
   "metadata": {
    "deletable": true,
    "editable": true
   },
   "source": [
    "# The GIS stack in Python "
   ]
  },
  {
   "cell_type": "markdown",
   "metadata": {
    "collapsed": true,
    "deletable": true,
    "editable": true
   },
   "source": [
    "* geopandas\n",
    "* shapely\n",
    "* fiona\n",
    "* pyproj\n",
    "* rtree (spatial indexing)\n",
    "* geoplot (for plotting)"
   ]
  },
  {
   "cell_type": "code",
   "execution_count": 1,
   "metadata": {
    "ExecuteTime": {
     "end_time": "2017-03-22T18:06:42.831525Z",
     "start_time": "2017-03-22T19:06:41.709601+01:00"
    },
    "collapsed": false,
    "deletable": true,
    "editable": true
   },
   "outputs": [],
   "source": [
    "import geopandas as gpd\n",
    "import pandas as pd\n",
    "import io\n",
    "import requests\n",
    "from shapely.geometry import Point\n",
    "import matplotlib.pylab as plt\n",
    "import mplleaflet\n",
    "import geoplot\n",
    "import seaborn as sns\n",
    "%matplotlib inline"
   ]
  },
  {
   "cell_type": "code",
   "execution_count": 2,
   "metadata": {
    "ExecuteTime": {
     "end_time": "2017-03-22T18:06:43.649689Z",
     "start_time": "2017-03-22T19:06:43.646154+01:00"
    },
    "collapsed": true
   },
   "outputs": [],
   "source": [
    "sns.set(font_scale=1.5)"
   ]
  },
  {
   "cell_type": "code",
   "execution_count": 2,
   "metadata": {
    "ExecuteTime": {
     "end_time": "2017-03-22T17:54:20.586369Z",
     "start_time": "2017-03-22T18:54:20.573695+01:00"
    },
    "collapsed": false,
    "deletable": true,
    "editable": true
   },
   "outputs": [],
   "source": [
    "%load_ext watermark"
   ]
  },
  {
   "cell_type": "code",
   "execution_count": 3,
   "metadata": {
    "ExecuteTime": {
     "end_time": "2017-03-22T17:54:21.927473Z",
     "start_time": "2017-03-22T18:54:21.853356+01:00"
    },
    "collapsed": false,
    "deletable": true,
    "editable": true
   },
   "outputs": [
    {
     "name": "stdout",
     "output_type": "stream",
     "text": [
      "2017-03-22 CET\n",
      "\n",
      "CPython 3.5.2\n",
      "IPython 5.3.0\n",
      "\n",
      "geopandas 0.2.1\n",
      "shapely 1.5.17.post1\n",
      "fiona 1.7.4\n",
      "pyproj 1.9.5.1\n",
      "geoplot n\u0007\n",
      "\n",
      "compiler   : GCC 4.2.1 Compatible Apple LLVM 8.0.0 (clang-800.0.42.1)\n",
      "system     : Darwin\n",
      "release    : 16.4.0\n",
      "machine    : x86_64\n",
      "processor  : i386\n",
      "CPU cores  : 4\n",
      "interpreter: 64bit\n",
      "host name  : MacBook-Pro-de-Qucit.local\n",
      "Git hash   : fd48f0ddb567b514c6bf8a0223e377fd6e96d2c8\n",
      "watermark 1.3.4\n"
     ]
    }
   ],
   "source": [
    "%watermark -d -z -v -p geopandas,shapely,fiona,pyproj,geoplot -g -h -m -w"
   ]
  },
  {
   "cell_type": "markdown",
   "metadata": {
    "deletable": true,
    "editable": true
   },
   "source": [
    "# Import Airport data"
   ]
  },
  {
   "cell_type": "markdown",
   "metadata": {
    "ExecuteTime": {
     "end_time": "2017-03-09T08:47:39.503131",
     "start_time": "2017-03-09T08:47:39.499634"
    },
    "collapsed": true,
    "deletable": true,
    "editable": true
   },
   "source": [
    "* Flights data source\n",
    "* http://openflights.org/data.html"
   ]
  },
  {
   "cell_type": "code",
   "execution_count": 3,
   "metadata": {
    "ExecuteTime": {
     "end_time": "2017-03-22T18:06:47.929591Z",
     "start_time": "2017-03-22T19:06:47.926238+01:00"
    },
    "collapsed": true,
    "deletable": true,
    "editable": true
   },
   "outputs": [],
   "source": [
    "column_names = ['id', 'name', 'city', 'country', 'IATA', 'ICAO', 'latitude', 'longitude', 'altitude', 'timezone', \n",
    "                'dst', 'tz_database_time_zone', 'type', 'source']"
   ]
  },
  {
   "cell_type": "code",
   "execution_count": 4,
   "metadata": {
    "ExecuteTime": {
     "end_time": "2017-03-22T18:06:49.912920Z",
     "start_time": "2017-03-22T19:06:49.437982+01:00"
    },
    "collapsed": false,
    "deletable": true,
    "editable": true
   },
   "outputs": [],
   "source": [
    "airports_url=\"https://raw.githubusercontent.com/jpatokal/openflights/master/data/airports.dat\"\n",
    "df = pd.read_csv(airports_url, header=None, names=column_names)"
   ]
  },
  {
   "cell_type": "code",
   "execution_count": 5,
   "metadata": {
    "ExecuteTime": {
     "end_time": "2017-03-22T18:06:50.916428Z",
     "start_time": "2017-03-22T19:06:50.887584+01:00"
    },
    "collapsed": false,
    "deletable": true,
    "editable": true,
    "scrolled": false
   },
   "outputs": [
    {
     "data": {
      "text/html": [
       "<div>\n",
       "<table border=\"1\" class=\"dataframe\">\n",
       "  <thead>\n",
       "    <tr style=\"text-align: right;\">\n",
       "      <th></th>\n",
       "      <th>id</th>\n",
       "      <th>name</th>\n",
       "      <th>city</th>\n",
       "      <th>country</th>\n",
       "      <th>IATA</th>\n",
       "      <th>ICAO</th>\n",
       "      <th>latitude</th>\n",
       "      <th>longitude</th>\n",
       "      <th>altitude</th>\n",
       "      <th>timezone</th>\n",
       "      <th>dst</th>\n",
       "      <th>tz_database_time_zone</th>\n",
       "      <th>type</th>\n",
       "      <th>source</th>\n",
       "    </tr>\n",
       "  </thead>\n",
       "  <tbody>\n",
       "    <tr>\n",
       "      <th>0</th>\n",
       "      <td>1</td>\n",
       "      <td>Goroka Airport</td>\n",
       "      <td>Goroka</td>\n",
       "      <td>Papua New Guinea</td>\n",
       "      <td>GKA</td>\n",
       "      <td>AYGA</td>\n",
       "      <td>-6.081690</td>\n",
       "      <td>145.391998</td>\n",
       "      <td>5282</td>\n",
       "      <td>10</td>\n",
       "      <td>U</td>\n",
       "      <td>Pacific/Port_Moresby</td>\n",
       "      <td>airport</td>\n",
       "      <td>OurAirports</td>\n",
       "    </tr>\n",
       "    <tr>\n",
       "      <th>1</th>\n",
       "      <td>2</td>\n",
       "      <td>Madang Airport</td>\n",
       "      <td>Madang</td>\n",
       "      <td>Papua New Guinea</td>\n",
       "      <td>MAG</td>\n",
       "      <td>AYMD</td>\n",
       "      <td>-5.207080</td>\n",
       "      <td>145.789001</td>\n",
       "      <td>20</td>\n",
       "      <td>10</td>\n",
       "      <td>U</td>\n",
       "      <td>Pacific/Port_Moresby</td>\n",
       "      <td>airport</td>\n",
       "      <td>OurAirports</td>\n",
       "    </tr>\n",
       "    <tr>\n",
       "      <th>2</th>\n",
       "      <td>3</td>\n",
       "      <td>Mount Hagen Kagamuga Airport</td>\n",
       "      <td>Mount Hagen</td>\n",
       "      <td>Papua New Guinea</td>\n",
       "      <td>HGU</td>\n",
       "      <td>AYMH</td>\n",
       "      <td>-5.826790</td>\n",
       "      <td>144.296005</td>\n",
       "      <td>5388</td>\n",
       "      <td>10</td>\n",
       "      <td>U</td>\n",
       "      <td>Pacific/Port_Moresby</td>\n",
       "      <td>airport</td>\n",
       "      <td>OurAirports</td>\n",
       "    </tr>\n",
       "    <tr>\n",
       "      <th>3</th>\n",
       "      <td>4</td>\n",
       "      <td>Nadzab Airport</td>\n",
       "      <td>Nadzab</td>\n",
       "      <td>Papua New Guinea</td>\n",
       "      <td>LAE</td>\n",
       "      <td>AYNZ</td>\n",
       "      <td>-6.569803</td>\n",
       "      <td>146.725977</td>\n",
       "      <td>239</td>\n",
       "      <td>10</td>\n",
       "      <td>U</td>\n",
       "      <td>Pacific/Port_Moresby</td>\n",
       "      <td>airport</td>\n",
       "      <td>OurAirports</td>\n",
       "    </tr>\n",
       "    <tr>\n",
       "      <th>4</th>\n",
       "      <td>5</td>\n",
       "      <td>Port Moresby Jacksons International Airport</td>\n",
       "      <td>Port Moresby</td>\n",
       "      <td>Papua New Guinea</td>\n",
       "      <td>POM</td>\n",
       "      <td>AYPY</td>\n",
       "      <td>-9.443380</td>\n",
       "      <td>147.220001</td>\n",
       "      <td>146</td>\n",
       "      <td>10</td>\n",
       "      <td>U</td>\n",
       "      <td>Pacific/Port_Moresby</td>\n",
       "      <td>airport</td>\n",
       "      <td>OurAirports</td>\n",
       "    </tr>\n",
       "  </tbody>\n",
       "</table>\n",
       "</div>"
      ],
      "text/plain": [
       "   id                                         name          city  \\\n",
       "0   1                               Goroka Airport        Goroka   \n",
       "1   2                               Madang Airport        Madang   \n",
       "2   3                 Mount Hagen Kagamuga Airport   Mount Hagen   \n",
       "3   4                               Nadzab Airport        Nadzab   \n",
       "4   5  Port Moresby Jacksons International Airport  Port Moresby   \n",
       "\n",
       "            country IATA  ICAO  latitude   longitude  altitude timezone dst  \\\n",
       "0  Papua New Guinea  GKA  AYGA -6.081690  145.391998      5282       10   U   \n",
       "1  Papua New Guinea  MAG  AYMD -5.207080  145.789001        20       10   U   \n",
       "2  Papua New Guinea  HGU  AYMH -5.826790  144.296005      5388       10   U   \n",
       "3  Papua New Guinea  LAE  AYNZ -6.569803  146.725977       239       10   U   \n",
       "4  Papua New Guinea  POM  AYPY -9.443380  147.220001       146       10   U   \n",
       "\n",
       "  tz_database_time_zone     type       source  \n",
       "0  Pacific/Port_Moresby  airport  OurAirports  \n",
       "1  Pacific/Port_Moresby  airport  OurAirports  \n",
       "2  Pacific/Port_Moresby  airport  OurAirports  \n",
       "3  Pacific/Port_Moresby  airport  OurAirports  \n",
       "4  Pacific/Port_Moresby  airport  OurAirports  "
      ]
     },
     "execution_count": 5,
     "metadata": {},
     "output_type": "execute_result"
    }
   ],
   "source": [
    "df.head()"
   ]
  },
  {
   "cell_type": "markdown",
   "metadata": {
    "deletable": true,
    "editable": true
   },
   "source": [
    "# Transform Pandas DataFrame into a GeoPandas DataFrame"
   ]
  },
  {
   "cell_type": "code",
   "execution_count": 6,
   "metadata": {
    "ExecuteTime": {
     "end_time": "2017-03-22T18:06:53.633544Z",
     "start_time": "2017-03-22T19:06:53.629323+01:00"
    },
    "collapsed": true,
    "deletable": true,
    "editable": true
   },
   "outputs": [],
   "source": [
    "def longitude_latitude_to_geom(row):\n",
    "    p = Point(row['longitude'], row['latitude'], row['altitude'])\n",
    "    return p"
   ]
  },
  {
   "cell_type": "code",
   "execution_count": 7,
   "metadata": {
    "ExecuteTime": {
     "end_time": "2017-03-22T18:06:54.769465Z",
     "start_time": "2017-03-22T19:06:54.765362+01:00"
    },
    "collapsed": true,
    "deletable": true,
    "editable": true
   },
   "outputs": [],
   "source": [
    "def add_geometry_column(input_df):\n",
    "    df = input_df.copy()\n",
    "    return df.assign(geometry=lambda df: df.apply(longitude_latitude_to_geom, axis=1))"
   ]
  },
  {
   "cell_type": "code",
   "execution_count": 8,
   "metadata": {
    "ExecuteTime": {
     "end_time": "2017-03-22T18:06:55.913757Z",
     "start_time": "2017-03-22T19:06:55.909498+01:00"
    },
    "collapsed": true,
    "deletable": true,
    "editable": true
   },
   "outputs": [],
   "source": [
    "def create_gdf_from_df(input_df):\n",
    "    df = input_df.copy()\n",
    "    return (df.pipe(add_geometry_column)\n",
    "              .drop(['longitude', 'latitude', 'altitude'], axis=1)\n",
    "              .pipe(gpd.GeoDataFrame))"
   ]
  },
  {
   "cell_type": "code",
   "execution_count": 9,
   "metadata": {
    "ExecuteTime": {
     "end_time": "2017-03-22T18:06:58.394786Z",
     "start_time": "2017-03-22T19:06:57.934292+01:00"
    },
    "collapsed": true,
    "deletable": true,
    "editable": true
   },
   "outputs": [],
   "source": [
    "gdf = df.pipe(create_gdf_from_df)"
   ]
  },
  {
   "cell_type": "code",
   "execution_count": 10,
   "metadata": {
    "ExecuteTime": {
     "end_time": "2017-03-22T18:06:59.501013Z",
     "start_time": "2017-03-22T19:06:59.479114+01:00"
    },
    "collapsed": false
   },
   "outputs": [
    {
     "data": {
      "text/html": [
       "<div>\n",
       "<table border=\"1\" class=\"dataframe\">\n",
       "  <thead>\n",
       "    <tr style=\"text-align: right;\">\n",
       "      <th></th>\n",
       "      <th>id</th>\n",
       "      <th>name</th>\n",
       "      <th>city</th>\n",
       "      <th>country</th>\n",
       "      <th>IATA</th>\n",
       "      <th>ICAO</th>\n",
       "      <th>timezone</th>\n",
       "      <th>dst</th>\n",
       "      <th>tz_database_time_zone</th>\n",
       "      <th>type</th>\n",
       "      <th>source</th>\n",
       "      <th>geometry</th>\n",
       "    </tr>\n",
       "  </thead>\n",
       "  <tbody>\n",
       "    <tr>\n",
       "      <th>0</th>\n",
       "      <td>1</td>\n",
       "      <td>Goroka Airport</td>\n",
       "      <td>Goroka</td>\n",
       "      <td>Papua New Guinea</td>\n",
       "      <td>GKA</td>\n",
       "      <td>AYGA</td>\n",
       "      <td>10</td>\n",
       "      <td>U</td>\n",
       "      <td>Pacific/Port_Moresby</td>\n",
       "      <td>airport</td>\n",
       "      <td>OurAirports</td>\n",
       "      <td>POINT Z (145.391998291 -6.081689834590001 5282)</td>\n",
       "    </tr>\n",
       "    <tr>\n",
       "      <th>1</th>\n",
       "      <td>2</td>\n",
       "      <td>Madang Airport</td>\n",
       "      <td>Madang</td>\n",
       "      <td>Papua New Guinea</td>\n",
       "      <td>MAG</td>\n",
       "      <td>AYMD</td>\n",
       "      <td>10</td>\n",
       "      <td>U</td>\n",
       "      <td>Pacific/Port_Moresby</td>\n",
       "      <td>airport</td>\n",
       "      <td>OurAirports</td>\n",
       "      <td>POINT Z (145.789001465 -5.20707988739 20)</td>\n",
       "    </tr>\n",
       "    <tr>\n",
       "      <th>2</th>\n",
       "      <td>3</td>\n",
       "      <td>Mount Hagen Kagamuga Airport</td>\n",
       "      <td>Mount Hagen</td>\n",
       "      <td>Papua New Guinea</td>\n",
       "      <td>HGU</td>\n",
       "      <td>AYMH</td>\n",
       "      <td>10</td>\n",
       "      <td>U</td>\n",
       "      <td>Pacific/Port_Moresby</td>\n",
       "      <td>airport</td>\n",
       "      <td>OurAirports</td>\n",
       "      <td>POINT Z (144.2960052490234 -5.826789855957031 ...</td>\n",
       "    </tr>\n",
       "    <tr>\n",
       "      <th>3</th>\n",
       "      <td>4</td>\n",
       "      <td>Nadzab Airport</td>\n",
       "      <td>Nadzab</td>\n",
       "      <td>Papua New Guinea</td>\n",
       "      <td>LAE</td>\n",
       "      <td>AYNZ</td>\n",
       "      <td>10</td>\n",
       "      <td>U</td>\n",
       "      <td>Pacific/Port_Moresby</td>\n",
       "      <td>airport</td>\n",
       "      <td>OurAirports</td>\n",
       "      <td>POINT Z (146.725977 -6.569803 239)</td>\n",
       "    </tr>\n",
       "    <tr>\n",
       "      <th>4</th>\n",
       "      <td>5</td>\n",
       "      <td>Port Moresby Jacksons International Airport</td>\n",
       "      <td>Port Moresby</td>\n",
       "      <td>Papua New Guinea</td>\n",
       "      <td>POM</td>\n",
       "      <td>AYPY</td>\n",
       "      <td>10</td>\n",
       "      <td>U</td>\n",
       "      <td>Pacific/Port_Moresby</td>\n",
       "      <td>airport</td>\n",
       "      <td>OurAirports</td>\n",
       "      <td>POINT Z (147.2200012207031 -9.443380355834961 ...</td>\n",
       "    </tr>\n",
       "  </tbody>\n",
       "</table>\n",
       "</div>"
      ],
      "text/plain": [
       "   id                                         name          city  \\\n",
       "0   1                               Goroka Airport        Goroka   \n",
       "1   2                               Madang Airport        Madang   \n",
       "2   3                 Mount Hagen Kagamuga Airport   Mount Hagen   \n",
       "3   4                               Nadzab Airport        Nadzab   \n",
       "4   5  Port Moresby Jacksons International Airport  Port Moresby   \n",
       "\n",
       "            country IATA  ICAO timezone dst tz_database_time_zone     type  \\\n",
       "0  Papua New Guinea  GKA  AYGA       10   U  Pacific/Port_Moresby  airport   \n",
       "1  Papua New Guinea  MAG  AYMD       10   U  Pacific/Port_Moresby  airport   \n",
       "2  Papua New Guinea  HGU  AYMH       10   U  Pacific/Port_Moresby  airport   \n",
       "3  Papua New Guinea  LAE  AYNZ       10   U  Pacific/Port_Moresby  airport   \n",
       "4  Papua New Guinea  POM  AYPY       10   U  Pacific/Port_Moresby  airport   \n",
       "\n",
       "        source                                           geometry  \n",
       "0  OurAirports    POINT Z (145.391998291 -6.081689834590001 5282)  \n",
       "1  OurAirports          POINT Z (145.789001465 -5.20707988739 20)  \n",
       "2  OurAirports  POINT Z (144.2960052490234 -5.826789855957031 ...  \n",
       "3  OurAirports                 POINT Z (146.725977 -6.569803 239)  \n",
       "4  OurAirports  POINT Z (147.2200012207031 -9.443380355834961 ...  "
      ]
     },
     "execution_count": 10,
     "metadata": {},
     "output_type": "execute_result"
    }
   ],
   "source": [
    "gdf.head()"
   ]
  },
  {
   "cell_type": "markdown",
   "metadata": {},
   "source": [
    "# Some analysis"
   ]
  },
  {
   "cell_type": "markdown",
   "metadata": {},
   "source": [
    "## Cities with the largest number of Airports"
   ]
  },
  {
   "cell_type": "code",
   "execution_count": 11,
   "metadata": {
    "ExecuteTime": {
     "end_time": "2017-03-22T18:07:03.219632Z",
     "start_time": "2017-03-22T19:07:02.918308+01:00"
    },
    "collapsed": false,
    "scrolled": false
   },
   "outputs": [
    {
     "data": {
      "text/plain": [
       "<matplotlib.axes._subplots.AxesSubplot at 0x10a85f278>"
      ]
     },
     "execution_count": 11,
     "metadata": {},
     "output_type": "execute_result"
    },
    {
     "data": {
      "image/png": "[encoded data removed]",
      "text/plain": [
       "<matplotlib.figure.Figure at 0x10a85f518>"
      ]
     },
     "metadata": {},
     "output_type": "display_data"
    }
   ],
   "source": [
    "gdf.groupby('city').count()['id'].sort_values(ascending=False).head(10).plot(kind='bar')"
   ]
  },
  {
   "cell_type": "markdown",
   "metadata": {},
   "source": [
    "## London details"
   ]
  },
  {
   "cell_type": "code",
   "execution_count": 12,
   "metadata": {
    "ExecuteTime": {
     "end_time": "2017-03-22T18:07:41.870848Z",
     "start_time": "2017-03-22T19:07:41.839679+01:00"
    },
    "collapsed": false
   },
   "outputs": [
    {
     "data": {
      "text/html": [
       "<div>\n",
       "<table border=\"1\" class=\"dataframe\">\n",
       "  <thead>\n",
       "    <tr style=\"text-align: right;\">\n",
       "      <th></th>\n",
       "      <th>id</th>\n",
       "      <th>name</th>\n",
       "      <th>city</th>\n",
       "      <th>country</th>\n",
       "      <th>IATA</th>\n",
       "      <th>ICAO</th>\n",
       "      <th>timezone</th>\n",
       "      <th>dst</th>\n",
       "      <th>tz_database_time_zone</th>\n",
       "      <th>type</th>\n",
       "      <th>source</th>\n",
       "      <th>geometry</th>\n",
       "    </tr>\n",
       "  </thead>\n",
       "  <tbody>\n",
       "    <tr>\n",
       "      <th>172</th>\n",
       "      <td>174</td>\n",
       "      <td>London Airport</td>\n",
       "      <td>London</td>\n",
       "      <td>Canada</td>\n",
       "      <td>YXU</td>\n",
       "      <td>CYXU</td>\n",
       "      <td>-5</td>\n",
       "      <td>A</td>\n",
       "      <td>America/Toronto</td>\n",
       "      <td>airport</td>\n",
       "      <td>OurAirports</td>\n",
       "      <td>POINT Z (-81.15389999999999 43.035599 912)</td>\n",
       "    </tr>\n",
       "    <tr>\n",
       "      <th>487</th>\n",
       "      <td>492</td>\n",
       "      <td>London Luton Airport</td>\n",
       "      <td>London</td>\n",
       "      <td>United Kingdom</td>\n",
       "      <td>LTN</td>\n",
       "      <td>EGGW</td>\n",
       "      <td>0</td>\n",
       "      <td>E</td>\n",
       "      <td>Europe/London</td>\n",
       "      <td>airport</td>\n",
       "      <td>OurAirports</td>\n",
       "      <td>POINT Z (-0.3683330118656158 51.87469863891602...</td>\n",
       "    </tr>\n",
       "    <tr>\n",
       "      <th>497</th>\n",
       "      <td>502</td>\n",
       "      <td>London Gatwick Airport</td>\n",
       "      <td>London</td>\n",
       "      <td>United Kingdom</td>\n",
       "      <td>LGW</td>\n",
       "      <td>EGKK</td>\n",
       "      <td>0</td>\n",
       "      <td>E</td>\n",
       "      <td>Europe/London</td>\n",
       "      <td>airport</td>\n",
       "      <td>OurAirports</td>\n",
       "      <td>POINT Z (-0.1902779936790467 51.14810180664063...</td>\n",
       "    </tr>\n",
       "    <tr>\n",
       "      <th>498</th>\n",
       "      <td>503</td>\n",
       "      <td>London City Airport</td>\n",
       "      <td>London</td>\n",
       "      <td>United Kingdom</td>\n",
       "      <td>LCY</td>\n",
       "      <td>EGLC</td>\n",
       "      <td>0</td>\n",
       "      <td>E</td>\n",
       "      <td>Europe/London</td>\n",
       "      <td>airport</td>\n",
       "      <td>OurAirports</td>\n",
       "      <td>POINT Z (0.05527799999999999 51.505299 19)</td>\n",
       "    </tr>\n",
       "    <tr>\n",
       "      <th>502</th>\n",
       "      <td>507</td>\n",
       "      <td>London Heathrow Airport</td>\n",
       "      <td>London</td>\n",
       "      <td>United Kingdom</td>\n",
       "      <td>LHR</td>\n",
       "      <td>EGLL</td>\n",
       "      <td>0</td>\n",
       "      <td>E</td>\n",
       "      <td>Europe/London</td>\n",
       "      <td>airport</td>\n",
       "      <td>OurAirports</td>\n",
       "      <td>POINT Z (-0.461941 51.4706 83)</td>\n",
       "    </tr>\n",
       "    <tr>\n",
       "      <th>542</th>\n",
       "      <td>548</td>\n",
       "      <td>London Stansted Airport</td>\n",
       "      <td>London</td>\n",
       "      <td>United Kingdom</td>\n",
       "      <td>STN</td>\n",
       "      <td>EGSS</td>\n",
       "      <td>0</td>\n",
       "      <td>E</td>\n",
       "      <td>Europe/London</td>\n",
       "      <td>airport</td>\n",
       "      <td>OurAirports</td>\n",
       "      <td>POINT Z (0.234999999404 51.8849983215 348)</td>\n",
       "    </tr>\n",
       "    <tr>\n",
       "      <th>5715</th>\n",
       "      <td>7722</td>\n",
       "      <td>London Heliport</td>\n",
       "      <td>London</td>\n",
       "      <td>United Kingdom</td>\n",
       "      <td>\\N</td>\n",
       "      <td>EGLW</td>\n",
       "      <td>0</td>\n",
       "      <td>E</td>\n",
       "      <td>Europe/London</td>\n",
       "      <td>airport</td>\n",
       "      <td>OurAirports</td>\n",
       "      <td>POINT Z (-0.179444000125 51.46972274779998 18)</td>\n",
       "    </tr>\n",
       "    <tr>\n",
       "      <th>6082</th>\n",
       "      <td>8410</td>\n",
       "      <td>London-Corbin Airport/Magee Field</td>\n",
       "      <td>London</td>\n",
       "      <td>United States</td>\n",
       "      <td>LOZ</td>\n",
       "      <td>KLOZ</td>\n",
       "      <td>-5</td>\n",
       "      <td>A</td>\n",
       "      <td>America/New_York</td>\n",
       "      <td>airport</td>\n",
       "      <td>OurAirports</td>\n",
       "      <td>POINT Z (-84.08489990230001 37.0821990967 1212)</td>\n",
       "    </tr>\n",
       "    <tr>\n",
       "      <th>6672</th>\n",
       "      <td>10169</td>\n",
       "      <td>Madison County Airport</td>\n",
       "      <td>London</td>\n",
       "      <td>United States</td>\n",
       "      <td>UYF</td>\n",
       "      <td>KUYF</td>\n",
       "      <td>-5</td>\n",
       "      <td>A</td>\n",
       "      <td>\\N</td>\n",
       "      <td>airport</td>\n",
       "      <td>OurAirports</td>\n",
       "      <td>POINT Z (-83.46199799 39.93270111 1082)</td>\n",
       "    </tr>\n",
       "  </tbody>\n",
       "</table>\n",
       "</div>"
      ],
      "text/plain": [
       "         id                               name    city         country IATA  \\\n",
       "172     174                     London Airport  London          Canada  YXU   \n",
       "487     492               London Luton Airport  London  United Kingdom  LTN   \n",
       "497     502             London Gatwick Airport  London  United Kingdom  LGW   \n",
       "498     503                London City Airport  London  United Kingdom  LCY   \n",
       "502     507            London Heathrow Airport  London  United Kingdom  LHR   \n",
       "542     548            London Stansted Airport  London  United Kingdom  STN   \n",
       "5715   7722                    London Heliport  London  United Kingdom   \\N   \n",
       "6082   8410  London-Corbin Airport/Magee Field  London   United States  LOZ   \n",
       "6672  10169             Madison County Airport  London   United States  UYF   \n",
       "\n",
       "      ICAO timezone dst tz_database_time_zone     type       source  \\\n",
       "172   CYXU       -5   A       America/Toronto  airport  OurAirports   \n",
       "487   EGGW        0   E         Europe/London  airport  OurAirports   \n",
       "497   EGKK        0   E         Europe/London  airport  OurAirports   \n",
       "498   EGLC        0   E         Europe/London  airport  OurAirports   \n",
       "502   EGLL        0   E         Europe/London  airport  OurAirports   \n",
       "542   EGSS        0   E         Europe/London  airport  OurAirports   \n",
       "5715  EGLW        0   E         Europe/London  airport  OurAirports   \n",
       "6082  KLOZ       -5   A      America/New_York  airport  OurAirports   \n",
       "6672  KUYF       -5   A                    \\N  airport  OurAirports   \n",
       "\n",
       "                                               geometry  \n",
       "172          POINT Z (-81.15389999999999 43.035599 912)  \n",
       "487   POINT Z (-0.3683330118656158 51.87469863891602...  \n",
       "497   POINT Z (-0.1902779936790467 51.14810180664063...  \n",
       "498          POINT Z (0.05527799999999999 51.505299 19)  \n",
       "502                      POINT Z (-0.461941 51.4706 83)  \n",
       "542          POINT Z (0.234999999404 51.8849983215 348)  \n",
       "5715     POINT Z (-0.179444000125 51.46972274779998 18)  \n",
       "6082    POINT Z (-84.08489990230001 37.0821990967 1212)  \n",
       "6672            POINT Z (-83.46199799 39.93270111 1082)  "
      ]
     },
     "execution_count": 12,
     "metadata": {},
     "output_type": "execute_result"
    }
   ],
   "source": [
    "gdf.loc[lambda df: df.city == 'London', :]"
   ]
  },
  {
   "cell_type": "code",
   "execution_count": 13,
   "metadata": {
    "ExecuteTime": {
     "end_time": "2017-03-22T18:08:59.096466Z",
     "start_time": "2017-03-22T19:08:58.740389+01:00"
    },
    "collapsed": false,
    "scrolled": false
   },
   "outputs": [
    {
     "data": {
      "text/plain": [
       "<matplotlib.axes._subplots.AxesSubplot at 0x10a24a0f0>"
      ]
     },
     "execution_count": 13,
     "metadata": {},
     "output_type": "execute_result"
    },
    {
     "data": {
      "image/png": "[encoded data removed]",
      "text/plain": [
       "<matplotlib.figure.Figure at 0x10a85fc88>"
      ]
     },
     "metadata": {},
     "output_type": "display_data"
    }
   ],
   "source": [
    "gdf.groupby(['city', 'country']).count()['id'].sort_values(ascending=False).head(10).plot(kind='bar')"
   ]
  },
  {
   "cell_type": "markdown",
   "metadata": {},
   "source": [
    "## Find airports in France"
   ]
  },
  {
   "cell_type": "markdown",
   "metadata": {},
   "source": [
    "### Read World shape"
   ]
  },
  {
   "cell_type": "code",
   "execution_count": 20,
   "metadata": {
    "ExecuteTime": {
     "end_time": "2017-03-22T18:15:18.371113Z",
     "start_time": "2017-03-22T19:15:18.367436+01:00"
    },
    "collapsed": true
   },
   "outputs": [],
   "source": [
    "DATA_PATH = '/Users/yassinealouini/Downloads/50m_physical/ne_50m_geography_regions_points.shp'"
   ]
  },
  {
   "cell_type": "code",
   "execution_count": 22,
   "metadata": {
    "ExecuteTime": {
     "end_time": "2017-03-22T18:15:30.637840Z",
     "start_time": "2017-03-22T19:15:29.860692+01:00"
    },
    "collapsed": false,
    "scrolled": false
   },
   "outputs": [
    {
     "data": {
      "text/plain": [
       "<matplotlib.axes._subplots.AxesSubplot at 0x10a8fe320>"
      ]
     },
     "execution_count": 22,
     "metadata": {},
     "output_type": "execute_result"
    },
    {
     "data": {
      "image/png": "[encoded data removed]",
      "text/plain": [
       "<matplotlib.figure.Figure at 0x10a8b5e10>"
      ]
     },
     "metadata": {},
     "output_type": "display_data"
    }
   ],
   "source": [
    "gpd.read_file(DATA_PATH).plot()"
   ]
  },
  {
   "cell_type": "markdown",
   "metadata": {
    "deletable": true,
    "editable": true
   },
   "source": [
    "# Map of Airports"
   ]
  },
  {
   "cell_type": "code",
   "execution_count": null,
   "metadata": {
    "collapsed": true
   },
   "outputs": [],
   "source": [
    "ax = gplt.polyplot(continental_usa)\n",
    "gplt.pointplot(continental_cities, ax=ax)\n",
    "ax.set_aspect(\"equal\")"
   ]
  },
  {
   "cell_type": "code",
   "execution_count": 12,
   "metadata": {
    "ExecuteTime": {
     "end_time": "2017-03-22T17:55:13.917583Z",
     "start_time": "2017-03-22T18:55:13.304239+01:00"
    },
    "collapsed": false,
    "deletable": true,
    "editable": true,
    "scrolled": true
   },
   "outputs": [
    {
     "data": {
      "text/html": [
       "<iframe src=\"data:text/html;base64,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\" width=\"100%\" height=\"1200\"></iframe>"
      ],
      "text/plain": [
       "<IPython.core.display.HTML object>"
      ]
     },
     "execution_count": 12,
     "metadata": {},
     "output_type": "execute_result"
    }
   ],
   "source": [
    "fig, ax= plt.subplots(1, 1, figsize=(20, 20))\n",
    "\n",
    "gdf.head().plot(ax=ax)\n",
    "mplleaflet.display(fig=fig)"
   ]
  },
  {
   "cell_type": "markdown",
   "metadata": {},
   "source": [
    "# Import the World layer"
   ]
  },
  {
   "cell_type": "code",
   "execution_count": null,
   "metadata": {
    "collapsed": true
   },
   "outputs": [],
   "source": []
  }
 ],
 "metadata": {
  "kernelspec": {
   "display_name": "Python 3",
   "language": "python",
   "name": "python3"
  },
  "language_info": {
   "codemirror_mode": {
    "name": "ipython",
    "version": 3
   },
   "file_extension": ".py",
   "mimetype": "text/x-python",
   "name": "python",
   "nbconvert_exporter": "python",
   "pygments_lexer": "ipython3",
   "version": "3.5.2"
  },
  "toc": {
   "toc_cell": false,
   "toc_number_sections": true,
   "toc_threshold": 6,
   "toc_window_display": true
  }
 },
 "nbformat": 4,
 "nbformat_minor": 0
}
